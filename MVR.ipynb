{
  "nbformat": 4,
  "nbformat_minor": 0,
  "metadata": {
    "colab": {
      "private_outputs": true,
      "provenance": []
    },
    "kernelspec": {
      "name": "python3",
      "display_name": "Python 3"
    },
    "language_info": {
      "name": "python"
    }
  },
  "cells": [
    {
      "cell_type": "code",
      "execution_count": null,
      "metadata": {
        "id": "vIDDxghRbM0J"
      },
      "outputs": [],
      "source": [
        "import pandas as pd"
      ]
    },
    {
      "cell_type": "code",
      "source": [
        "movies = pd.read_csv('dataset.csv')"
      ],
      "metadata": {
        "id": "4lhLpxcybdqv"
      },
      "execution_count": null,
      "outputs": []
    },
    {
      "cell_type": "code",
      "source": [
        "movies.head(10)"
      ],
      "metadata": {
        "id": "Mn3ek7fTbqlX"
      },
      "execution_count": null,
      "outputs": []
    },
    {
      "cell_type": "code",
      "source": [
        "movies.describe()"
      ],
      "metadata": {
        "id": "NWUw-w-wb0g9"
      },
      "execution_count": null,
      "outputs": []
    },
    {
      "cell_type": "code",
      "source": [
        "movies.info()"
      ],
      "metadata": {
        "id": "pCe257oUb_Mt"
      },
      "execution_count": null,
      "outputs": []
    },
    {
      "cell_type": "code",
      "source": [
        "movies.isnull().sum()"
      ],
      "metadata": {
        "id": "PvNivE8DcZAw"
      },
      "execution_count": null,
      "outputs": []
    },
    {
      "cell_type": "code",
      "source": [
        "movies.columns"
      ],
      "metadata": {
        "id": "iazVGTwbcg5m"
      },
      "execution_count": null,
      "outputs": []
    },
    {
      "cell_type": "code",
      "source": [
        "movies = movies[['id','title','overview','genre']]"
      ],
      "metadata": {
        "id": "83Ug51aFclDF"
      },
      "execution_count": null,
      "outputs": []
    },
    {
      "cell_type": "code",
      "source": [
        "movies"
      ],
      "metadata": {
        "id": "PdxywcdFcw9a"
      },
      "execution_count": null,
      "outputs": []
    },
    {
      "cell_type": "code",
      "source": [
        "movies['tags'] = movies['overview'] + movies['genre']"
      ],
      "metadata": {
        "id": "HaHNoeokcy_z"
      },
      "execution_count": null,
      "outputs": []
    },
    {
      "cell_type": "code",
      "source": [
        "movies"
      ],
      "metadata": {
        "id": "qvC91Fb8c_dT"
      },
      "execution_count": null,
      "outputs": []
    },
    {
      "cell_type": "code",
      "source": [
        "new_data = movies.drop(columns=['overview','genre'])"
      ],
      "metadata": {
        "id": "VPx_7bDadC3G"
      },
      "execution_count": null,
      "outputs": []
    },
    {
      "cell_type": "code",
      "source": [
        "new_data"
      ],
      "metadata": {
        "id": "kUsFoyNHdQer"
      },
      "execution_count": null,
      "outputs": []
    },
    {
      "cell_type": "code",
      "source": [
        "from sklearn.feature_extraction.text import CountVectorizer"
      ],
      "metadata": {
        "id": "qFSIVw5Ud8z7"
      },
      "execution_count": null,
      "outputs": []
    },
    {
      "cell_type": "code",
      "source": [
        "cv = CountVectorizer(max_features=10000,stop_words='english')"
      ],
      "metadata": {
        "id": "vrnYLOJGeEbG"
      },
      "execution_count": null,
      "outputs": []
    },
    {
      "cell_type": "code",
      "source": [
        "cv"
      ],
      "metadata": {
        "id": "bPMIBbvSeVvc"
      },
      "execution_count": null,
      "outputs": []
    },
    {
      "cell_type": "code",
      "source": [
        "vector = cv.fit_transform(new_data['tags'].values.astype('U')).toarray()"
      ],
      "metadata": {
        "id": "j7J26Za3eeDl"
      },
      "execution_count": null,
      "outputs": []
    },
    {
      "cell_type": "code",
      "source": [
        "vector.shape"
      ],
      "metadata": {
        "id": "Yj4iLvoverq1"
      },
      "execution_count": null,
      "outputs": []
    },
    {
      "cell_type": "code",
      "source": [
        "from sklearn.metrics.pairwise import cosine_similarity"
      ],
      "metadata": {
        "id": "UUUaemn1fBLx"
      },
      "execution_count": null,
      "outputs": []
    },
    {
      "cell_type": "code",
      "source": [
        "similarity = cosine_similarity(vector)"
      ],
      "metadata": {
        "id": "gZZRUO5afM21"
      },
      "execution_count": null,
      "outputs": []
    },
    {
      "cell_type": "code",
      "source": [
        "similarity"
      ],
      "metadata": {
        "id": "AlCCnaTNfjj-"
      },
      "execution_count": null,
      "outputs": []
    },
    {
      "cell_type": "code",
      "source": [
        "distance = sorted(list(enumerate(similarity[2])),reverse=True,key=lambda vector:vector[1])\n",
        "for i in distance[0:5]:\n",
        "    print(new_data.iloc[i[0]].title)"
      ],
      "metadata": {
        "id": "rrcvdoiwgOu-"
      },
      "execution_count": null,
      "outputs": []
    },
    {
      "cell_type": "code",
      "source": [
        "def recommend(movies):\n",
        "    index = new_data[new_data['title'] == movies].index[0]\n",
        "    distance = sorted(list(enumerate(similarity[index])),reverse=True,key=lambda vector:vector[1])\n",
        "    for i in distance[0:5]:\n",
        "        print(new_data.iloc[i[0]].title)"
      ],
      "metadata": {
        "id": "ZikqzYJMgS4u"
      },
      "execution_count": null,
      "outputs": []
    },
    {
      "cell_type": "code",
      "source": [
        "recommend('Iron Man')"
      ],
      "metadata": {
        "id": "daT6JxyTgfdk"
      },
      "execution_count": null,
      "outputs": []
    },
    {
      "cell_type": "code",
      "source": [
        "import pickle"
      ],
      "metadata": {
        "id": "bpr-Go7ZgpBX"
      },
      "execution_count": null,
      "outputs": []
    },
    {
      "cell_type": "code",
      "source": [
        "pickle.dump(new_data,open('movies_list.pkl','wb'))\n",
        "pickle.dump(similarity,open('similarity.pkl','wb'))"
      ],
      "metadata": {
        "id": "oDFTXXWsgvKE"
      },
      "execution_count": null,
      "outputs": []
    },
    {
      "cell_type": "code",
      "source": [
        "pickle.load(open('movies_list.pkl','rb'))"
      ],
      "metadata": {
        "id": "LpcmW_lIhbSQ"
      },
      "execution_count": null,
      "outputs": []
    }
  ]
}